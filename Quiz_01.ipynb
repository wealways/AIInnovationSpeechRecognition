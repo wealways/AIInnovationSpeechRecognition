{
 "cells": [
  {
   "cell_type": "code",
   "execution_count": 16,
   "metadata": {},
   "outputs": [
    {
     "name": "stdout",
     "output_type": "stream",
     "text": [
      "['We', 'are', 'studying', 'python', 'now']\n"
     ]
    }
   ],
   "source": [
    "C = \"We are studying python now\"\n",
    "\n",
    "# print(C.split())"
   ]
  },
  {
   "cell_type": "code",
   "execution_count": null,
   "metadata": {},
   "outputs": [],
   "source": [
    "# 퀴즈\n",
    "# (1) for문을 이용하여 구구단 2단 ~ 9 단까지 출력 \n",
    "    >> 예) 2 * 1 = 2 \n",
    "           ...\n",
    "           9 * 9 = 81\n",
    "  (2) B = {1: (1, \"a\"), 2: (2, \"b\"), 3: (3, \"c\"), 4: (4, \"d\"), 5: (5, \"e\")}\n",
    "    >> 예)  1a\n",
    "           2b\n",
    "           3c\n",
    "           4d\n",
    "           5e\n",
    "  (3) C = \"We are studying python now\"\n",
    "    >> 예) {'W': 1, 'e': 2, ' ': 4, 'a': 1, 'r': 1, 's': 1, 't': 2, 'u': 1, 'd': 1, 'y': 2, 'i': 1, 'n': 3, 'g': 1, 'p': 1, 'h': 1, 'o': 2, 'w': 1}"
   ]
  },
  {
   "cell_type": "code",
   "execution_count": 1,
   "metadata": {},
   "outputs": [
    {
     "name": "stdout",
     "output_type": "stream",
     "text": [
      "2 * 1 = 2\n",
      "2 * 2 = 4\n",
      "2 * 3 = 6\n",
      "2 * 4 = 8\n",
      "2 * 5 = 10\n",
      "2 * 6 = 12\n",
      "2 * 7 = 14\n",
      "2 * 8 = 16\n",
      "2 * 9 = 18\n",
      "3 * 1 = 3\n",
      "3 * 2 = 6\n",
      "3 * 3 = 9\n",
      "3 * 4 = 12\n",
      "3 * 5 = 15\n",
      "3 * 6 = 18\n",
      "3 * 7 = 21\n",
      "3 * 8 = 24\n",
      "3 * 9 = 27\n",
      "4 * 1 = 4\n",
      "4 * 2 = 8\n",
      "4 * 3 = 12\n",
      "4 * 4 = 16\n",
      "4 * 5 = 20\n",
      "4 * 6 = 24\n",
      "4 * 7 = 28\n",
      "4 * 8 = 32\n",
      "4 * 9 = 36\n",
      "5 * 1 = 5\n",
      "5 * 2 = 10\n",
      "5 * 3 = 15\n",
      "5 * 4 = 20\n",
      "5 * 5 = 25\n",
      "5 * 6 = 30\n",
      "5 * 7 = 35\n",
      "5 * 8 = 40\n",
      "5 * 9 = 45\n",
      "6 * 1 = 6\n",
      "6 * 2 = 12\n",
      "6 * 3 = 18\n",
      "6 * 4 = 24\n",
      "6 * 5 = 30\n",
      "6 * 6 = 36\n",
      "6 * 7 = 42\n",
      "6 * 8 = 48\n",
      "6 * 9 = 54\n",
      "7 * 1 = 7\n",
      "7 * 2 = 14\n",
      "7 * 3 = 21\n",
      "7 * 4 = 28\n",
      "7 * 5 = 35\n",
      "7 * 6 = 42\n",
      "7 * 7 = 49\n",
      "7 * 8 = 56\n",
      "7 * 9 = 63\n",
      "8 * 1 = 8\n",
      "8 * 2 = 16\n",
      "8 * 3 = 24\n",
      "8 * 4 = 32\n",
      "8 * 5 = 40\n",
      "8 * 6 = 48\n",
      "8 * 7 = 56\n",
      "8 * 8 = 64\n",
      "8 * 9 = 72\n",
      "9 * 1 = 9\n",
      "9 * 2 = 18\n",
      "9 * 3 = 27\n",
      "9 * 4 = 36\n",
      "9 * 5 = 45\n",
      "9 * 6 = 54\n",
      "9 * 7 = 63\n",
      "9 * 8 = 72\n",
      "9 * 9 = 81\n"
     ]
    }
   ],
   "source": [
    "for i in range(2, 10):\n",
    "    for j in range(1, 10):\n",
    "        print(\"%d * %d = %d\" % (i, j, i*j))"
   ]
  },
  {
   "cell_type": "code",
   "execution_count": 18,
   "metadata": {},
   "outputs": [
    {
     "name": "stdout",
     "output_type": "stream",
     "text": [
      "1a\n",
      "2b\n",
      "3c\n",
      "4d\n",
      "5e\n"
     ]
    }
   ],
   "source": [
    "B = {1: (1, \"a\"), 2: (2, \"b\"), 3: (3, \"c\"), 4: (4, \"d\"), 5: (5, \"e\")}\n",
    "\n",
    "for key, val in B.items():\n",
    "    num, char = val\n",
    "    # print(num, char)\n",
    "    print(\"%d%s\"% (num, char))"
   ]
  },
  {
   "cell_type": "code",
   "execution_count": 17,
   "metadata": {},
   "outputs": [
    {
     "name": "stdout",
     "output_type": "stream",
     "text": [
      "1a\n",
      "2b\n",
      "3c\n",
      "4d\n",
      "5e\n"
     ]
    }
   ],
   "source": [
    "B = {1: (1, \"a\"), 2: (2, \"b\"), 3: (3, \"c\"), 4: (4, \"d\"), 5: (5, \"e\")}\n",
    "\n",
    "for val in B.values():\n",
    "    num, char = val\n",
    "    # print(num, char)\n",
    "    print(\"%d%s\"% (num, char))"
   ]
  },
  {
   "cell_type": "code",
   "execution_count": 15,
   "metadata": {},
   "outputs": [
    {
     "name": "stdout",
     "output_type": "stream",
     "text": [
      "1a\n",
      "2b\n",
      "3c\n",
      "4d\n",
      "5e\n"
     ]
    }
   ],
   "source": [
    "B = {1: (1, \"a\"), 2: (2, \"b\"), 3: (3, \"c\"), 4: (4, \"d\"), 5: (5, \"e\")}\n",
    "\n",
    "for key in B:\n",
    "    item = B[key]\n",
    "    num, char = item\n",
    "    # print(num, char)\n",
    "    print(\"%d%s\"% (num, char))\n",
    "\n",
    "\n"
   ]
  },
  {
   "cell_type": "code",
   "execution_count": 25,
   "metadata": {},
   "outputs": [
    {
     "name": "stdout",
     "output_type": "stream",
     "text": [
      "Help on built-in function count:\n",
      "\n",
      "count(...) method of builtins.str instance\n",
      "    S.count(sub[, start[, end]]) -> int\n",
      "    \n",
      "    Return the number of non-overlapping occurrences of substring sub in\n",
      "    string S[start:end].  Optional arguments start and end are\n",
      "    interpreted as in slice notation.\n",
      "\n"
     ]
    }
   ],
   "source": [
    "C = \"We are studying python now\"\n",
    "help(C.count)"
   ]
  },
  {
   "cell_type": "code",
   "execution_count": 24,
   "metadata": {},
   "outputs": [
    {
     "name": "stdout",
     "output_type": "stream",
     "text": [
      "{'W': 1, 'e': 2, ' ': 4, 'a': 1, 'r': 1, 's': 1, 't': 2, 'u': 1, 'd': 1, 'y': 2, 'i': 1, 'n': 3, 'g': 1, 'p': 1, 'h': 1, 'o': 2, 'w': 1}\n"
     ]
    }
   ],
   "source": [
    "C = \"We are studying python now\"\n",
    "\n",
    "data = {}\n",
    "for i in C:\n",
    "    data[i] = C.count(i)\n",
    "print(data)"
   ]
  },
  {
   "cell_type": "code",
   "execution_count": 14,
   "metadata": {},
   "outputs": [
    {
     "name": "stdout",
     "output_type": "stream",
     "text": [
      "{'W': 1, 'e': 2, ' ': 4, 'a': 1, 'r': 1, 's': 1, 't': 2, 'u': 1, 'd': 1, 'y': 2, 'i': 1, 'n': 3, 'g': 1, 'p': 1, 'h': 1, 'o': 2, 'w': 1}\n",
      "\n",
      "W\t*\n",
      "e\t**\n",
      " \t****\n",
      "a\t*\n",
      "r\t*\n",
      "s\t*\n",
      "t\t**\n",
      "u\t*\n",
      "d\t*\n",
      "y\t**\n",
      "i\t*\n",
      "n\t***\n",
      "g\t*\n",
      "p\t*\n",
      "h\t*\n",
      "o\t**\n",
      "w\t*\n"
     ]
    }
   ],
   "source": [
    "C = \"We are studying python now\"\n",
    "\n",
    "\n",
    "data = {}\n",
    "\n",
    "for i in C:\n",
    "    if i in data:\n",
    "        data[i] = data[i] + 1\n",
    "    else:\n",
    "        data[i] = 1\n",
    "\n",
    "print(data)\n",
    "print()\n",
    "\n",
    "for key, value in data.items():\n",
    "    print(key, end=\"\\t\")\n",
    "    for i in range(value):\n",
    "        print(\"*\", end=\"\")\n",
    "    print()"
   ]
  },
  {
   "cell_type": "code",
   "execution_count": null,
   "metadata": {},
   "outputs": [],
   "source": []
  }
 ],
 "metadata": {
  "kernelspec": {
   "display_name": "Python 3",
   "language": "python",
   "name": "python3"
  },
  "language_info": {
   "codemirror_mode": {
    "name": "ipython",
    "version": 3
   },
   "file_extension": ".py",
   "mimetype": "text/x-python",
   "name": "python",
   "nbconvert_exporter": "python",
   "pygments_lexer": "ipython3",
   "version": "3.6.8"
  }
 },
 "nbformat": 4,
 "nbformat_minor": 2
}
