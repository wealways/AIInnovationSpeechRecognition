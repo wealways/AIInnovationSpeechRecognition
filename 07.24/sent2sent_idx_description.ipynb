{
 "cells": [
  {
   "cell_type": "code",
   "execution_count": 19,
   "metadata": {},
   "outputs": [],
   "source": [
    "text=\"\"\"A barber is a person. \n",
    "a barber is good person. \n",
    "a barber is huge person. \n",
    "he Knew A Secret! \n",
    "The Secret He Kept is huge secret. \n",
    "Huge secret. \n",
    "His barber kept his word. \n",
    "a barber kept his word. \n",
    "His barber kept his secret. \n",
    "But keeping and keeping such a huge secret to himself was driving the barber crazy. \n",
    "the barber went up a huge mountain.\"\"\""
   ]
  },
  {
   "cell_type": "code",
   "execution_count": 20,
   "metadata": {},
   "outputs": [],
   "source": [
    "# 목표 1: Word Seq --> Word-ID Seq\n",
    "\n",
    "## 세부목표 1: 문장을 토큰화\n",
    "## 세부목표 2: 단어 Set 및 아이디 부여\n",
    "## 세부목표 3: Word Seq --> Word-ID Seq"
   ]
  }
 ],
 "metadata": {
  "kernelspec": {
   "display_name": "Python 3",
   "language": "python",
   "name": "python3"
  },
  "language_info": {
   "codemirror_mode": {
    "name": "ipython",
    "version": 3
   },
   "file_extension": ".py",
   "mimetype": "text/x-python",
   "name": "python",
   "nbconvert_exporter": "python",
   "pygments_lexer": "ipython3",
   "version": "3.6.8"
  }
 },
 "nbformat": 4,
 "nbformat_minor": 2
}
