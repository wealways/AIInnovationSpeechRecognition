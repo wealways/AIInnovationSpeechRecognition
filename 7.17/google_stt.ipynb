{
 "cells": [
  {
   "cell_type": "code",
   "execution_count": 1,
   "metadata": {
    "colab": {
     "base_uri": "https://localhost:8080/",
     "height": 343
    },
    "colab_type": "code",
    "executionInfo": {
     "elapsed": 5565,
     "status": "ok",
     "timestamp": 1558512268269,
     "user": {
      "displayName": "김광호",
      "photoUrl": "",
      "userId": "01011620567309263351"
     },
     "user_tz": -540
    },
    "id": "mQ5HFEdehRzK",
    "outputId": "fb7e197e-488c-4d77-f6f7-57306af55a0f"
   },
   "outputs": [
    {
     "name": "stdout",
     "output_type": "stream",
     "text": [
      "Collecting google-cloud-speech\n",
      "\u001b[?25l  Downloading https://files.pythonhosted.org/packages/84/ec/19bf96b478a9e1dcd26a7ef8fda219666e6f1fb29f4cf03d1b29c47163c6/google_cloud_speech-1.1.0-py2.py3-none-any.whl (84kB)\n",
      "\u001b[K    100% |████████████████████████████████| 92kB 809kB/s ta 0:00:01\n",
      "\u001b[?25hCollecting google-api-core[grpc]<2.0.0dev,>=1.6.0 (from google-cloud-speech)\n",
      "\u001b[?25l  Downloading https://files.pythonhosted.org/packages/a2/78/bbd685dda48a291b4cc81568ed3e1a89af7a61958dc88a3d52a819b1919d/google_api_core-1.13.0-py2.py3-none-any.whl (68kB)\n",
      "\u001b[K    100% |████████████████████████████████| 71kB 3.9MB/s ta 0:00:011\n",
      "\u001b[?25hCollecting googleapis-common-protos!=1.5.4,<2.0dev,>=1.5.3 (from google-api-core[grpc]<2.0.0dev,>=1.6.0->google-cloud-speech)\n",
      "  Downloading https://files.pythonhosted.org/packages/eb/ee/e59e74ecac678a14d6abefb9054f0bbcb318a6452a30df3776f133886d7d/googleapis-common-protos-1.6.0.tar.gz\n",
      "Requirement already satisfied, skipping upgrade: setuptools>=34.0.0 in /opt/conda/lib/python3.6/site-packages (from google-api-core[grpc]<2.0.0dev,>=1.6.0->google-cloud-speech) (40.8.0)\n",
      "Requirement already satisfied, skipping upgrade: requests<3.0.0dev,>=2.18.0 in /opt/conda/lib/python3.6/site-packages (from google-api-core[grpc]<2.0.0dev,>=1.6.0->google-cloud-speech) (2.21.0)\n",
      "Requirement already satisfied, skipping upgrade: pytz in /opt/conda/lib/python3.6/site-packages (from google-api-core[grpc]<2.0.0dev,>=1.6.0->google-cloud-speech) (2018.9)\n",
      "Requirement already satisfied, skipping upgrade: six>=1.10.0 in /opt/conda/lib/python3.6/site-packages (from google-api-core[grpc]<2.0.0dev,>=1.6.0->google-cloud-speech) (1.12.0)\n",
      "Collecting google-auth<2.0dev,>=0.4.0 (from google-api-core[grpc]<2.0.0dev,>=1.6.0->google-cloud-speech)\n",
      "\u001b[?25l  Downloading https://files.pythonhosted.org/packages/c5/9b/ed0516cc1f7609fb0217e3057ff4f0f9f3e3ce79a369c6af4a6c5ca25664/google_auth-1.6.3-py2.py3-none-any.whl (73kB)\n",
      "\u001b[K    100% |████████████████████████████████| 81kB 4.1MB/s ta 0:00:011\n",
      "\u001b[?25hRequirement already satisfied, skipping upgrade: protobuf>=3.4.0 in /opt/conda/lib/python3.6/site-packages (from google-api-core[grpc]<2.0.0dev,>=1.6.0->google-cloud-speech) (3.7.0)\n",
      "Requirement already satisfied, skipping upgrade: grpcio<2.0dev,>=1.8.2; extra == \"grpc\" in /opt/conda/lib/python3.6/site-packages (from google-api-core[grpc]<2.0.0dev,>=1.6.0->google-cloud-speech) (1.19.0)\n",
      "Requirement already satisfied, skipping upgrade: urllib3<1.25,>=1.21.1 in /opt/conda/lib/python3.6/site-packages (from requests<3.0.0dev,>=2.18.0->google-api-core[grpc]<2.0.0dev,>=1.6.0->google-cloud-speech) (1.24.1)\n",
      "Requirement already satisfied, skipping upgrade: certifi>=2017.4.17 in /opt/conda/lib/python3.6/site-packages (from requests<3.0.0dev,>=2.18.0->google-api-core[grpc]<2.0.0dev,>=1.6.0->google-cloud-speech) (2019.3.9)\n",
      "Requirement already satisfied, skipping upgrade: chardet<3.1.0,>=3.0.2 in /opt/conda/lib/python3.6/site-packages (from requests<3.0.0dev,>=2.18.0->google-api-core[grpc]<2.0.0dev,>=1.6.0->google-cloud-speech) (3.0.4)\n",
      "Requirement already satisfied, skipping upgrade: idna<2.9,>=2.5 in /opt/conda/lib/python3.6/site-packages (from requests<3.0.0dev,>=2.18.0->google-api-core[grpc]<2.0.0dev,>=1.6.0->google-cloud-speech) (2.8)\n",
      "Collecting rsa>=3.1.4 (from google-auth<2.0dev,>=0.4.0->google-api-core[grpc]<2.0.0dev,>=1.6.0->google-cloud-speech)\n",
      "  Downloading https://files.pythonhosted.org/packages/02/e5/38518af393f7c214357079ce67a317307936896e961e35450b70fad2a9cf/rsa-4.0-py2.py3-none-any.whl\n",
      "Collecting cachetools>=2.0.0 (from google-auth<2.0dev,>=0.4.0->google-api-core[grpc]<2.0.0dev,>=1.6.0->google-cloud-speech)\n",
      "  Downloading https://files.pythonhosted.org/packages/2f/a6/30b0a0bef12283e83e58c1d6e7b5aabc7acfc4110df81a4471655d33e704/cachetools-3.1.1-py2.py3-none-any.whl\n",
      "Collecting pyasn1-modules>=0.2.1 (from google-auth<2.0dev,>=0.4.0->google-api-core[grpc]<2.0.0dev,>=1.6.0->google-cloud-speech)\n",
      "\u001b[?25l  Downloading https://files.pythonhosted.org/packages/91/f0/b03e00ce9fddf4827c42df1c3ce10c74eadebfb706231e8d6d1c356a4062/pyasn1_modules-0.2.5-py2.py3-none-any.whl (74kB)\n",
      "\u001b[K    100% |████████████████████████████████| 81kB 5.0MB/s ta 0:00:011\n",
      "\u001b[?25hCollecting pyasn1>=0.1.3 (from rsa>=3.1.4->google-auth<2.0dev,>=0.4.0->google-api-core[grpc]<2.0.0dev,>=1.6.0->google-cloud-speech)\n",
      "\u001b[?25l  Downloading https://files.pythonhosted.org/packages/7b/7c/c9386b82a25115cccf1903441bba3cbadcfae7b678a20167347fa8ded34c/pyasn1-0.4.5-py2.py3-none-any.whl (73kB)\n",
      "\u001b[K    100% |████████████████████████████████| 81kB 6.3MB/s ta 0:00:01\n",
      "\u001b[?25hBuilding wheels for collected packages: googleapis-common-protos\n",
      "  Building wheel for googleapis-common-protos (setup.py) ... \u001b[?25ldone\n",
      "\u001b[?25h  Stored in directory: /root/.cache/pip/wheels/9e/3d/a2/1bec8bb7db80ab3216dbc33092bb7ccd0debfb8ba42b5668d5\n",
      "Successfully built googleapis-common-protos\n",
      "Installing collected packages: googleapis-common-protos, pyasn1, rsa, cachetools, pyasn1-modules, google-auth, google-api-core, google-cloud-speech\n",
      "Successfully installed cachetools-3.1.1 google-api-core-1.13.0 google-auth-1.6.3 google-cloud-speech-1.1.0 googleapis-common-protos-1.6.0 pyasn1-0.4.5 pyasn1-modules-0.2.5 rsa-4.0\n",
      "\u001b[33mYou are using pip version 19.0.3, however version 19.1.1 is available.\n",
      "You should consider upgrading via the 'pip install --upgrade pip' command.\u001b[0m\n"
     ]
    }
   ],
   "source": [
    "!pip install --upgrade google-cloud-speech"
   ]
  },
  {
   "cell_type": "code",
   "execution_count": 2,
   "metadata": {
    "colab": {},
    "colab_type": "code",
    "id": "atJqKdKzqxyY"
   },
   "outputs": [],
   "source": [
    "import os\n",
    "os.environ[\"GOOGLE_APPLICATION_CREDENTIALS\"]=\"./TEST-369d71cc40d2.json\""
   ]
  },
  {
   "cell_type": "code",
   "execution_count": 3,
   "metadata": {
    "colab": {
     "base_uri": "https://localhost:8080/",
     "height": 700
    },
    "colab_type": "code",
    "executionInfo": {
     "elapsed": 4216,
     "status": "ok",
     "timestamp": 1558513975928,
     "user": {
      "displayName": "김광호",
      "photoUrl": "",
      "userId": "01011620567309263351"
     },
     "user_tz": -540
    },
    "id": "CLYPE_mDq-pe",
    "outputId": "f36457e6-2e1c-4ca4-df62-69f9d7393857"
   },
   "outputs": [
    {
     "name": "stdout",
     "output_type": "stream",
     "text": [
      "LANGUAGE=ko_KR:en\r\n",
      "MPLBACKEND=module://ipykernel.pylab.backend_inline\r\n",
      "HOSTNAME=c17d7e72b965\r\n",
      "HOME=/root\r\n",
      "PYTHONUNBUFFERED=1\r\n",
      "PAGER=cat\r\n",
      "GOOGLE_APPLICATION_CREDENTIALS=./TEST-369d71cc40d2.json\r\n",
      "TERM=xterm-color\r\n",
      "PATH=/opt/conda/bin:/opt/conda/bin:/usr/local/sbin:/usr/local/bin:/usr/sbin:/usr/bin:/sbin:/bin\r\n",
      "LANG=ko_KR.UTF-8\r\n",
      "GIT_PAGER=cat\r\n",
      "LC_ALL=ko_KR.UTF-8\r\n",
      "CLICOLOR=1\r\n",
      "PWD=/workspace/TensorFlow/basic\r\n",
      "JPY_PARENT_PID=1\r\n",
      "TZ=Asia/Seoul\r\n"
     ]
    }
   ],
   "source": [
    "!env"
   ]
  },
  {
   "cell_type": "code",
   "execution_count": 4,
   "metadata": {
    "colab": {},
    "colab_type": "code",
    "id": "fF0x895nhbPv"
   },
   "outputs": [],
   "source": [
    "import argparse\n",
    "import io\n",
    "\n",
    "\n",
    "# [START speech_transcribe_sync]\n",
    "def transcribe_file(speech_file):\n",
    "    \"\"\"Transcribe the given audio file.\"\"\"\n",
    "    from google.cloud import speech\n",
    "    from google.cloud.speech import enums\n",
    "    from google.cloud.speech import types\n",
    "    client = speech.SpeechClient()\n",
    "\n",
    "    # [START speech_python_migration_sync_request]\n",
    "    # [START speech_python_migration_config]\n",
    "    with io.open(speech_file, 'rb') as audio_file:\n",
    "        content = audio_file.read()\n",
    "\n",
    "    audio = types.RecognitionAudio(content=content)\n",
    "    config = types.RecognitionConfig(\n",
    "        encoding=enums.RecognitionConfig.AudioEncoding.LINEAR16,\n",
    "        # encoding=enums.RecognitionConfig.AudioEncoding.FLAC,\n",
    "        sample_rate_hertz=16000,\n",
    "        language_code='ko-KR')\n",
    "        # language_code='en-US')\n",
    "    # [END speech_python_migration_config]\n",
    "\n",
    "    # operation = client.long_running_recognize(config, audio)\n",
    "    #\n",
    "    # print('Waiting for operation to complete...')\n",
    "    # response = operation.result(timeout=90)\n",
    "\n",
    "    # [START speech_python_migration_sync_response]\n",
    "    response = client.recognize(config, audio)\n",
    "    # [END speech_python_migration_sync_request]\n",
    "    # Each result is for a consecutive portion of the audio. Iterate through\n",
    "    # them to get the transcripts for the entire audio file.\n",
    "    for result in response.results:\n",
    "        # The first alternative is the most likely one for this portion.\n",
    "        print(u'Transcript: {}'.format(result.alternatives[0].transcript))\n",
    "        print(u'Confidence: {}'.format(result.alternatives[0].confidence))\n",
    "    # [END speech_python_migration_sync_response]\n",
    "# [END speech_transcribe_sync]\n",
    "\n",
    "\n",
    "# [START speech_transcribe_sync_gcs]\n",
    "def transcribe_gcs(gcs_uri):\n",
    "    \"\"\"Transcribes the audio file specified by the gcs_uri.\"\"\"\n",
    "    from google.cloud import speech\n",
    "    from google.cloud.speech import enums\n",
    "    from google.cloud.speech import types\n",
    "    client = speech.SpeechClient()\n",
    "\n",
    "    # [START speech_python_migration_config_gcs]\n",
    "    audio = types.RecognitionAudio(uri=gcs_uri)\n",
    "    config = types.RecognitionConfig(\n",
    "        encoding=enums.RecognitionConfig.AudioEncoding.FLAC,\n",
    "        sample_rate_hertz=16000,\n",
    "        language_code='en-US')\n",
    "    # [END speech_python_migration_config_gcs]\n",
    "\n",
    "    response = client.recognize(config, audio)\n",
    "    # Each result is for a consecutive portion of the audio. Iterate through\n",
    "    # them to get the transcripts for the entire audio file.\n",
    "    for result in response.results:\n",
    "        # The first alternative is the most likely one for this portion.\n",
    "        print(u'Transcript: {}'.format(result.alternatives[0].transcript))\n",
    "# [END speech_transcribe_sync_gcs]\n"
   ]
  },
  {
   "cell_type": "code",
   "execution_count": 5,
   "metadata": {
    "colab": {
     "base_uri": "https://localhost:8080/",
     "height": 51
    },
    "colab_type": "code",
    "executionInfo": {
     "elapsed": 2283,
     "status": "ok",
     "timestamp": 1558514002361,
     "user": {
      "displayName": "김광호",
      "photoUrl": "",
      "userId": "01011620567309263351"
     },
     "user_tz": -540
    },
    "id": "ihYqI29pju55",
    "outputId": "a43361cf-4f5c-4eb8-eec6-fcd29bceae38"
   },
   "outputs": [
    {
     "name": "stdout",
     "output_type": "stream",
     "text": [
      "Transcript: IMF 때는 얘기할 것도 없습니다\n",
      "Confidence: 0.9216632843017578\n"
     ]
    }
   ],
   "source": [
    "transcribe_file(\"./voice.wav\")"
   ]
  },
  {
   "cell_type": "code",
   "execution_count": 0,
   "metadata": {
    "colab": {},
    "colab_type": "code",
    "id": "YYmq-G0ZrGCK"
   },
   "outputs": [],
   "source": []
  }
 ],
 "metadata": {
  "colab": {
   "collapsed_sections": [],
   "name": "google_stt.ipynb",
   "provenance": [],
   "version": "0.3.2"
  },
  "kernelspec": {
   "display_name": "Python 3",
   "language": "python",
   "name": "python3"
  },
  "language_info": {
   "codemirror_mode": {
    "name": "ipython",
    "version": 3
   },
   "file_extension": ".py",
   "mimetype": "text/x-python",
   "name": "python",
   "nbconvert_exporter": "python",
   "pygments_lexer": "ipython3",
   "version": "3.6.8"
  }
 },
 "nbformat": 4,
 "nbformat_minor": 1
}
