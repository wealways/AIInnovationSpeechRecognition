{
 "cells": [
  {
   "cell_type": "code",
   "execution_count": 1,
   "metadata": {},
   "outputs": [],
   "source": [
    "import numpy as np"
   ]
  },
  {
   "cell_type": "markdown",
   "metadata": {},
   "source": [
    "Numpy : https://www.numpy.org/"
   ]
  },
  {
   "cell_type": "code",
   "execution_count": 7,
   "metadata": {},
   "outputs": [
    {
     "name": "stdout",
     "output_type": "stream",
     "text": [
      "0\n",
      "()\n",
      "float64\n"
     ]
    }
   ],
   "source": [
    "# scalar\n",
    "x1 = np.array(1.0)\n",
    "\n",
    "print(x1.ndim)\n",
    "print(x1.shape)\n",
    "print(x1.dtype)"
   ]
  },
  {
   "cell_type": "code",
   "execution_count": 4,
   "metadata": {},
   "outputs": [
    {
     "name": "stdout",
     "output_type": "stream",
     "text": [
      "<class 'numpy.ndarray'>\n",
      "<class 'numpy.ndarray'>\n",
      "1\n",
      "(3,)\n",
      "float64\n",
      "1\n",
      "(3,)\n",
      "int64\n"
     ]
    }
   ],
   "source": [
    "# vector \n",
    "\n",
    "x1 = np.array([1.0, 2.0, 3.0])\n",
    "x2 = np.array([1, 2, 3])\n",
    "\n",
    "print(type(x1))\n",
    "print(type(x2))\n",
    "\n",
    "print(x1.ndim)\n",
    "print(x1.shape)\n",
    "print(x1.dtype)\n",
    "\n",
    "print(x2.ndim)\n",
    "print(x2.shape)\n",
    "print(x2.dtype)\n",
    "\n",
    "\n"
   ]
  },
  {
   "cell_type": "code",
   "execution_count": 5,
   "metadata": {},
   "outputs": [
    {
     "name": "stdout",
     "output_type": "stream",
     "text": [
      "[3. 6. 9.]\n",
      "[-1. -2. -3.]\n",
      "[ 2.  8. 18.]\n",
      "[0.5 0.5 0.5]\n"
     ]
    }
   ],
   "source": [
    "# vector 연산\n",
    "x = np.array([1.0, 2.0, 3.0])\n",
    "y = np.array([2.0, 4.0, 6.0])\n",
    "\n",
    "print(x + y)\n",
    "print(x - y)\n",
    "print(x * y)\n",
    "print(x / y)\n"
   ]
  },
  {
   "cell_type": "code",
   "execution_count": 10,
   "metadata": {},
   "outputs": [
    {
     "name": "stdout",
     "output_type": "stream",
     "text": [
      "[[1. 2.]\n",
      " [3. 4.]]\n",
      "2\n",
      "(2, 2)\n",
      "float64\n"
     ]
    }
   ],
   "source": [
    "# matrix \n",
    "A = np.array([[1, 2], [3, 4]]) # dtype=np.float64\n",
    "\n",
    "print(A)\n",
    "print(A.ndim)\n",
    "print(A.shape)\n",
    "print(A.dtype)"
   ]
  },
  {
   "cell_type": "code",
   "execution_count": 12,
   "metadata": {},
   "outputs": [
    {
     "name": "stdout",
     "output_type": "stream",
     "text": [
      "[[1 2]\n",
      " [3 4]]\n",
      "[[4 3]\n",
      " [2 1]]\n",
      "[[5 5]\n",
      " [5 5]]\n",
      "[[-3 -1]\n",
      " [ 1  3]]\n",
      "[[4 6]\n",
      " [6 4]]\n",
      "[[0.25       0.66666667]\n",
      " [1.5        4.        ]]\n"
     ]
    }
   ],
   "source": [
    "# matrix 연산\n",
    "A = np.array([[1, 2], [3, 4]])\n",
    "B = np.array([[4, 3], [2, 1]])\n",
    "\n",
    "print(A)\n",
    "print(B)\n",
    "\n",
    "# element-wise operation\n",
    "print(A + B)\n",
    "print(A - B)\n",
    "print(A * B)\n",
    "print(A / B)\n",
    "\n"
   ]
  },
  {
   "cell_type": "code",
   "execution_count": 13,
   "metadata": {},
   "outputs": [
    {
     "name": "stdout",
     "output_type": "stream",
     "text": [
      "[[10 40]\n",
      " [30 80]]\n"
     ]
    }
   ],
   "source": [
    "# Broadcast\n",
    "A = np.array([[1, 2], [3, 4]])\n",
    "B = np.array([10, 20])\n",
    "\n",
    "print(A * B)"
   ]
  },
  {
   "cell_type": "code",
   "execution_count": 16,
   "metadata": {},
   "outputs": [
    {
     "name": "stdout",
     "output_type": "stream",
     "text": [
      "[[1 2]\n",
      " [3 4]] [[4 3]\n",
      " [2 1]]\n",
      "[[4 3]\n",
      " [2 1]]\n",
      "[[ 8  5]\n",
      " [20 13]]\n",
      "[[13 20]\n",
      " [ 5  8]]\n"
     ]
    }
   ],
   "source": [
    "# numpy matrix muliplication\n",
    "A = np.array([[1, 2], [3, 4]])\n",
    "B = np.array([[4, 3], [2, 1]])\n",
    "\n",
    "print(A, B)\n",
    "\n",
    "print(np.dot(A, B))\n",
    "print(np.dot(B, A))\n",
    "\n"
   ]
  },
  {
   "cell_type": "code",
   "execution_count": 22,
   "metadata": {},
   "outputs": [
    {
     "name": "stdout",
     "output_type": "stream",
     "text": [
      "1\n",
      "2\n",
      "3\n",
      "4\n",
      "[1 3]\n",
      "[1 2]\n",
      "[1 2]\n"
     ]
    }
   ],
   "source": [
    "# matrix slicing\n",
    "A = np.array([[1, 2], [3, 4]])\n",
    "\n",
    "print(A[0, 0])\n",
    "print(A[0, 1])\n",
    "print(A[1, 0])\n",
    "print(A[1, 1])\n",
    "\n",
    "print(A[:, 0])\n",
    "\n",
    "print(A[0, :])\n",
    "print(A[0])"
   ]
  },
  {
   "cell_type": "code",
   "execution_count": 27,
   "metadata": {},
   "outputs": [
    {
     "name": "stdout",
     "output_type": "stream",
     "text": [
      "[[1 2]\n",
      " [3 4]]\n",
      "[[1 3]\n",
      " [2 4]]\n",
      "[[1 3]\n",
      " [2 4]]\n",
      "[[1 2 3 4]]\n",
      "[[1]\n",
      " [2]\n",
      " [3]\n",
      " [4]]\n",
      "[[1 2 3 4]]\n"
     ]
    }
   ],
   "source": [
    "# matrix Operation (Transpose, reshape)\n",
    "A = np.array([[1, 2], [3, 4]])\n",
    "\n",
    "print(A)\n",
    "\n",
    "print(A.T)\n",
    "print(A.transpose())\n",
    "\n",
    "print(A.reshape(1,4))\n",
    "print(A.reshape(-1,4))\n",
    "\n",
    "print(A.reshape(4,1))\n"
   ]
  },
  {
   "cell_type": "code",
   "execution_count": 42,
   "metadata": {},
   "outputs": [
    {
     "name": "stdout",
     "output_type": "stream",
     "text": [
      "[0.5488135  0.71518937 0.60276338 0.54488318 0.4236548 ]\n",
      "[[0.64589411 0.43758721 0.891773   0.96366276 0.38344152]\n",
      " [0.79172504 0.52889492 0.56804456 0.92559664 0.07103606]\n",
      " [0.0871293  0.0202184  0.83261985 0.77815675 0.87001215]]\n",
      "[ 1.49407907 -0.20515826  0.3130677  -0.85409574 -2.55298982]\n",
      "[[ 0.6536186   0.8644362  -0.74216502  2.26975462 -1.45436567]\n",
      " [ 0.04575852 -0.18718385  1.53277921  1.46935877  0.15494743]\n",
      " [ 0.37816252 -0.88778575 -1.98079647 -0.34791215  0.15634897]]\n",
      "[[-7 -4]\n",
      " [ 1  4]]\n"
     ]
    }
   ],
   "source": [
    "# Random \n",
    "\n",
    "np.random.seed(0)\n",
    "\n",
    "# 0-1\n",
    "print(np.random.rand(5))\n",
    "print(np.random.rand(3, 5))\n",
    "\n",
    "# normal distribution (mean=0)\n",
    "print(np.random.randn(5))\n",
    "print(np.random.randn(3, 5))\n",
    "\n",
    "# numpy.random.randint(low, high=None, size=None)\n",
    "print(np.random.randint(-10, high=10, size=(2,2)))\n"
   ]
  },
  {
   "cell_type": "code",
   "execution_count": null,
   "metadata": {},
   "outputs": [],
   "source": []
  },
  {
   "cell_type": "code",
   "execution_count": 64,
   "metadata": {},
   "outputs": [
    {
     "name": "stdout",
     "output_type": "stream",
     "text": [
      "W : \n",
      "[[1.76405235]\n",
      " [0.40015721]]\n",
      "b : \n",
      "[0.97873798]\n",
      "[[0]\n",
      " [0]\n",
      " [0]\n",
      " [1]]\n",
      "[[0.97873798]\n",
      " [1.37889519]\n",
      " [2.74279033]\n",
      " [3.14294754]]\n",
      "[[-0.97873798]\n",
      " [-1.37889519]\n",
      " [-2.74279033]\n",
      " [-2.14294754]]\n",
      "3.743600735152331\n"
     ]
    }
   ],
   "source": [
    "# example \n",
    "np.random.seed(0)\n",
    "\n",
    "# AND \n",
    "X = np.array([\n",
    "                [0, 0],\n",
    "                [0, 1],\n",
    "                [1, 0],\n",
    "                [1, 1]\n",
    "            ])\n",
    "\n",
    "T = np.array([[0], [0], [0], [1]])\n",
    "\n",
    "\n",
    "W = np.random.randn(2, 1)\n",
    "b = np.random.randn(1)\n",
    "\n",
    "print(\"W : \")\n",
    "print(W)\n",
    "print(\"b : \")\n",
    "print(b)\n",
    "\n",
    "# Y = X * W (X : (4,2) , W (2,1)\n",
    "\n",
    "\n",
    "Y = np.dot(X, W) + b\n",
    "print(T)\n",
    "print(Y)\n",
    "\n",
    "print(T-Y)\n",
    "print(np.mean((T-Y)**2))\n"
   ]
  },
  {
   "cell_type": "code",
   "execution_count": null,
   "metadata": {},
   "outputs": [],
   "source": []
  },
  {
   "cell_type": "code",
   "execution_count": null,
   "metadata": {},
   "outputs": [],
   "source": []
  },
  {
   "cell_type": "code",
   "execution_count": null,
   "metadata": {},
   "outputs": [],
   "source": []
  }
 ],
 "metadata": {
  "kernelspec": {
   "display_name": "Python 3",
   "language": "python",
   "name": "python3"
  },
  "language_info": {
   "codemirror_mode": {
    "name": "ipython",
    "version": 3
   },
   "file_extension": ".py",
   "mimetype": "text/x-python",
   "name": "python",
   "nbconvert_exporter": "python",
   "pygments_lexer": "ipython3",
   "version": "3.6.8"
  }
 },
 "nbformat": 4,
 "nbformat_minor": 2
}
